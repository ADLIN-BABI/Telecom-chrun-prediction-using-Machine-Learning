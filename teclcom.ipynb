{
 "cells": [
  {
   "cell_type": "code",
   "execution_count": 1,
   "id": "0bb1e79c-fb44-470d-93f6-ccb2012d18fd",
   "metadata": {},
   "outputs": [],
   "source": [
    "import pandas as pd\n",
    "import numpy as np\n",
    "from sklearn.model_selection import train_test_split\n",
    "from sklearn.preprocessing import LabelEncoder, MinMaxScaler"
   ]
  },
  {
   "cell_type": "code",
   "execution_count": 2,
   "id": "3626b0f8-b693-4ddb-bbac-7c2396adfdee",
   "metadata": {},
   "outputs": [],
   "source": [
    "from sklearn.metrics import confusion_matrix, classification_report\n",
    "from sklearn.utils import class_weight\n",
    "import matplotlib.pyplot as plt\n",
    "import seaborn as sns\n",
    "import tensorflow as tf\n",
    "from tensorflow import keras"
   ]
  },
  {
   "cell_type": "code",
   "execution_count": 3,
   "id": "a1ea1e90-3f25-4537-b9a6-325c3d55be46",
   "metadata": {},
   "outputs": [
    {
     "name": "stderr",
     "output_type": "stream",
     "text": [
      "C:\\Users\\ADLIN\\AppData\\Local\\Temp\\ipykernel_1364\\2575219132.py:9: SettingWithCopyWarning: \n",
      "A value is trying to be set on a copy of a slice from a DataFrame.\n",
      "Try using .loc[row_indexer,col_indexer] = value instead\n",
      "\n",
      "See the caveats in the documentation: https://pandas.pydata.org/pandas-docs/stable/user_guide/indexing.html#returning-a-view-versus-a-copy\n",
      "  x['TotalCharges'] = pd.to_numeric(x['TotalCharges'], errors='coerce')\n",
      "C:\\Users\\ADLIN\\AppData\\Local\\Temp\\ipykernel_1364\\2575219132.py:10: FutureWarning: A value is trying to be set on a copy of a DataFrame or Series through chained assignment using an inplace method.\n",
      "The behavior will change in pandas 3.0. This inplace method will never work because the intermediate object on which we are setting values always behaves as a copy.\n",
      "\n",
      "For example, when doing 'df[col].method(value, inplace=True)', try using 'df.method({col: value}, inplace=True)' or df[col] = df[col].method(value) instead, to perform the operation inplace on the original object.\n",
      "\n",
      "\n",
      "  x['TotalCharges'].fillna(x['TotalCharges'].median(), inplace=True)\n",
      "C:\\Users\\ADLIN\\AppData\\Local\\Temp\\ipykernel_1364\\2575219132.py:10: SettingWithCopyWarning: \n",
      "A value is trying to be set on a copy of a slice from a DataFrame\n",
      "\n",
      "See the caveats in the documentation: https://pandas.pydata.org/pandas-docs/stable/user_guide/indexing.html#returning-a-view-versus-a-copy\n",
      "  x['TotalCharges'].fillna(x['TotalCharges'].median(), inplace=True)\n",
      "C:\\Users\\ADLIN\\AppData\\Local\\Temp\\ipykernel_1364\\2575219132.py:16: SettingWithCopyWarning: \n",
      "A value is trying to be set on a copy of a slice from a DataFrame.\n",
      "Try using .loc[row_indexer,col_indexer] = value instead\n",
      "\n",
      "See the caveats in the documentation: https://pandas.pydata.org/pandas-docs/stable/user_guide/indexing.html#returning-a-view-versus-a-copy\n",
      "  x[col] = le.fit_transform(x[col])\n",
      "C:\\Users\\ADLIN\\AppData\\Local\\Temp\\ipykernel_1364\\2575219132.py:16: SettingWithCopyWarning: \n",
      "A value is trying to be set on a copy of a slice from a DataFrame.\n",
      "Try using .loc[row_indexer,col_indexer] = value instead\n",
      "\n",
      "See the caveats in the documentation: https://pandas.pydata.org/pandas-docs/stable/user_guide/indexing.html#returning-a-view-versus-a-copy\n",
      "  x[col] = le.fit_transform(x[col])\n",
      "C:\\Users\\ADLIN\\AppData\\Local\\Temp\\ipykernel_1364\\2575219132.py:16: SettingWithCopyWarning: \n",
      "A value is trying to be set on a copy of a slice from a DataFrame.\n",
      "Try using .loc[row_indexer,col_indexer] = value instead\n",
      "\n",
      "See the caveats in the documentation: https://pandas.pydata.org/pandas-docs/stable/user_guide/indexing.html#returning-a-view-versus-a-copy\n",
      "  x[col] = le.fit_transform(x[col])\n",
      "C:\\Users\\ADLIN\\AppData\\Local\\Temp\\ipykernel_1364\\2575219132.py:16: SettingWithCopyWarning: \n",
      "A value is trying to be set on a copy of a slice from a DataFrame.\n",
      "Try using .loc[row_indexer,col_indexer] = value instead\n",
      "\n",
      "See the caveats in the documentation: https://pandas.pydata.org/pandas-docs/stable/user_guide/indexing.html#returning-a-view-versus-a-copy\n",
      "  x[col] = le.fit_transform(x[col])\n",
      "C:\\Users\\ADLIN\\AppData\\Local\\Temp\\ipykernel_1364\\2575219132.py:16: SettingWithCopyWarning: \n",
      "A value is trying to be set on a copy of a slice from a DataFrame.\n",
      "Try using .loc[row_indexer,col_indexer] = value instead\n",
      "\n",
      "See the caveats in the documentation: https://pandas.pydata.org/pandas-docs/stable/user_guide/indexing.html#returning-a-view-versus-a-copy\n",
      "  x[col] = le.fit_transform(x[col])\n",
      "C:\\Users\\ADLIN\\AppData\\Local\\Temp\\ipykernel_1364\\2575219132.py:20: SettingWithCopyWarning: \n",
      "A value is trying to be set on a copy of a slice from a DataFrame.\n",
      "Try using .loc[row_indexer,col_indexer] = value instead\n",
      "\n",
      "See the caveats in the documentation: https://pandas.pydata.org/pandas-docs/stable/user_guide/indexing.html#returning-a-view-versus-a-copy\n",
      "  x[num_cols] = scaler.fit_transform(x[num_cols])\n"
     ]
    }
   ],
   "source": [
    "df = pd.read_csv(\"C:/Users/ADLIN/Downloads/WA_Fn-UseC_-Telco-Customer-Churn.csv\")\n",
    "\n",
    "# Select features and target\n",
    "x = df[[\"gender\", \"SeniorCitizen\", \"Partner\", \"Dependents\", \"tenure\", \n",
    "        \"PhoneService\", \"InternetService\", \"MonthlyCharges\", \"TotalCharges\"]]\n",
    "y = df['Churn']\n",
    "\n",
    "# Convert TotalCharges to numeric, fix missing\n",
    "x['TotalCharges'] = pd.to_numeric(x['TotalCharges'], errors='coerce')\n",
    "x['TotalCharges'].fillna(x['TotalCharges'].median(), inplace=True)\n",
    "\n",
    "# Encode categorical features\n",
    "cat_cols = ['gender', 'Partner', 'Dependents', 'PhoneService', 'InternetService']\n",
    "le = LabelEncoder()\n",
    "for col in cat_cols:\n",
    "    x[col] = le.fit_transform(x[col])\n",
    "# Scale numerical features\n",
    "num_cols = ['SeniorCitizen', 'tenure', 'MonthlyCharges', 'TotalCharges']\n",
    "scaler = MinMaxScaler()\n",
    "x[num_cols] = scaler.fit_transform(x[num_cols])\n",
    "\n",
    "# Encode target\n",
    "y = le.fit_transform(y)  # 0=No, 1=Yes"
   ]
  },
  {
   "cell_type": "code",
   "execution_count": 4,
   "id": "b18365ff-9782-40a8-bcb7-835048aa37be",
   "metadata": {},
   "outputs": [
    {
     "name": "stdout",
     "output_type": "stream",
     "text": [
      "Class weights: {np.int64(0): np.float64(0.6781292984869326), np.int64(1): np.float64(1.9034749034749034)}\n"
     ]
    }
   ],
   "source": [
    "# Train-test split\n",
    "x_train, x_test, y_train, y_test = train_test_split(\n",
    "    x, y, test_size=0.3, random_state=42)\n",
    "\n",
    "# Compute class weights to handle imbalance\n",
    "class_weights = class_weight.compute_class_weight(\n",
    "    class_weight='balanced',\n",
    "    classes=np.unique(y_train),\n",
    "    y=y_train\n",
    ")\n",
    "class_weights = dict(zip(np.unique(y_train), class_weights))\n",
    "print(\"Class weights:\", class_weights)\n",
    "\n"
   ]
  },
  {
   "cell_type": "code",
   "execution_count": 5,
   "id": "861fd4b2-78c8-4a89-904a-b5b296df3ba3",
   "metadata": {
    "scrolled": true
   },
   "outputs": [
    {
     "name": "stderr",
     "output_type": "stream",
     "text": [
      "C:\\Users\\ADLIN\\AppData\\Local\\Programs\\Python\\Python312\\Lib\\site-packages\\keras\\src\\layers\\core\\dense.py:93: UserWarning: Do not pass an `input_shape`/`input_dim` argument to a layer. When using Sequential models, prefer using an `Input(shape)` object as the first layer in the model instead.\n",
      "  super().__init__(activity_regularizer=activity_regularizer, **kwargs)\n"
     ]
    },
    {
     "name": "stdout",
     "output_type": "stream",
     "text": [
      "Epoch 1/20\n",
      "\u001b[1m124/124\u001b[0m \u001b[32m━━━━━━━━━━━━━━━━━━━━\u001b[0m\u001b[37m\u001b[0m \u001b[1m5s\u001b[0m 13ms/step - accuracy: 0.7010 - loss: 0.6738 - val_accuracy: 0.7191 - val_loss: 0.5904\n",
      "Epoch 2/20\n",
      "\u001b[1m124/124\u001b[0m \u001b[32m━━━━━━━━━━━━━━━━━━━━\u001b[0m\u001b[37m\u001b[0m \u001b[1m1s\u001b[0m 7ms/step - accuracy: 0.7232 - loss: 0.5968 - val_accuracy: 0.6937 - val_loss: 0.5710\n",
      "Epoch 3/20\n",
      "\u001b[1m124/124\u001b[0m \u001b[32m━━━━━━━━━━━━━━━━━━━━\u001b[0m\u001b[37m\u001b[0m \u001b[1m1s\u001b[0m 7ms/step - accuracy: 0.7273 - loss: 0.5492 - val_accuracy: 0.7454 - val_loss: 0.5092\n",
      "Epoch 4/20\n",
      "\u001b[1m124/124\u001b[0m \u001b[32m━━━━━━━━━━━━━━━━━━━━\u001b[0m\u001b[37m\u001b[0m \u001b[1m1s\u001b[0m 7ms/step - accuracy: 0.7315 - loss: 0.5361 - val_accuracy: 0.7150 - val_loss: 0.5480\n",
      "Epoch 5/20\n",
      "\u001b[1m124/124\u001b[0m \u001b[32m━━━━━━━━━━━━━━━━━━━━\u001b[0m\u001b[37m\u001b[0m \u001b[1m1s\u001b[0m 7ms/step - accuracy: 0.7258 - loss: 0.5338 - val_accuracy: 0.7485 - val_loss: 0.4880\n",
      "Epoch 6/20\n",
      "\u001b[1m124/124\u001b[0m \u001b[32m━━━━━━━━━━━━━━━━━━━━\u001b[0m\u001b[37m\u001b[0m \u001b[1m1s\u001b[0m 7ms/step - accuracy: 0.7360 - loss: 0.5210 - val_accuracy: 0.7363 - val_loss: 0.5136\n",
      "Epoch 7/20\n",
      "\u001b[1m124/124\u001b[0m \u001b[32m━━━━━━━━━━━━━━━━━━━━\u001b[0m\u001b[37m\u001b[0m \u001b[1m1s\u001b[0m 7ms/step - accuracy: 0.7304 - loss: 0.5337 - val_accuracy: 0.7312 - val_loss: 0.5236\n",
      "Epoch 8/20\n",
      "\u001b[1m124/124\u001b[0m \u001b[32m━━━━━━━━━━━━━━━━━━━━\u001b[0m\u001b[37m\u001b[0m \u001b[1m1s\u001b[0m 7ms/step - accuracy: 0.7198 - loss: 0.5258 - val_accuracy: 0.7515 - val_loss: 0.4899\n",
      "Epoch 9/20\n",
      "\u001b[1m124/124\u001b[0m \u001b[32m━━━━━━━━━━━━━━━━━━━━\u001b[0m\u001b[37m\u001b[0m \u001b[1m1s\u001b[0m 7ms/step - accuracy: 0.7224 - loss: 0.5290 - val_accuracy: 0.7434 - val_loss: 0.5088\n",
      "Epoch 10/20\n",
      "\u001b[1m124/124\u001b[0m \u001b[32m━━━━━━━━━━━━━━━━━━━━\u001b[0m\u001b[37m\u001b[0m \u001b[1m1s\u001b[0m 7ms/step - accuracy: 0.7316 - loss: 0.5341 - val_accuracy: 0.7525 - val_loss: 0.4820\n",
      "Epoch 11/20\n",
      "\u001b[1m124/124\u001b[0m \u001b[32m━━━━━━━━━━━━━━━━━━━━\u001b[0m\u001b[37m\u001b[0m \u001b[1m1s\u001b[0m 7ms/step - accuracy: 0.7314 - loss: 0.5213 - val_accuracy: 0.7221 - val_loss: 0.5282\n",
      "Epoch 12/20\n",
      "\u001b[1m124/124\u001b[0m \u001b[32m━━━━━━━━━━━━━━━━━━━━\u001b[0m\u001b[37m\u001b[0m \u001b[1m1s\u001b[0m 7ms/step - accuracy: 0.7291 - loss: 0.5253 - val_accuracy: 0.7292 - val_loss: 0.5254\n",
      "Epoch 13/20\n",
      "\u001b[1m124/124\u001b[0m \u001b[32m━━━━━━━━━━━━━━━━━━━━\u001b[0m\u001b[37m\u001b[0m \u001b[1m1s\u001b[0m 7ms/step - accuracy: 0.7255 - loss: 0.5283 - val_accuracy: 0.7404 - val_loss: 0.5084\n",
      "Epoch 14/20\n",
      "\u001b[1m124/124\u001b[0m \u001b[32m━━━━━━━━━━━━━━━━━━━━\u001b[0m\u001b[37m\u001b[0m \u001b[1m1s\u001b[0m 7ms/step - accuracy: 0.7396 - loss: 0.5164 - val_accuracy: 0.7069 - val_loss: 0.5578\n",
      "Epoch 15/20\n",
      "\u001b[1m124/124\u001b[0m \u001b[32m━━━━━━━━━━━━━━━━━━━━\u001b[0m\u001b[37m\u001b[0m \u001b[1m1s\u001b[0m 5ms/step - accuracy: 0.7385 - loss: 0.5200 - val_accuracy: 0.7495 - val_loss: 0.4860\n",
      "Epoch 16/20\n",
      "\u001b[1m124/124\u001b[0m \u001b[32m━━━━━━━━━━━━━━━━━━━━\u001b[0m\u001b[37m\u001b[0m \u001b[1m1s\u001b[0m 5ms/step - accuracy: 0.7249 - loss: 0.5269 - val_accuracy: 0.7485 - val_loss: 0.4818\n",
      "Epoch 17/20\n",
      "\u001b[1m124/124\u001b[0m \u001b[32m━━━━━━━━━━━━━━━━━━━━\u001b[0m\u001b[37m\u001b[0m \u001b[1m1s\u001b[0m 5ms/step - accuracy: 0.7366 - loss: 0.5276 - val_accuracy: 0.7444 - val_loss: 0.4915\n",
      "Epoch 18/20\n",
      "\u001b[1m124/124\u001b[0m \u001b[32m━━━━━━━━━━━━━━━━━━━━\u001b[0m\u001b[37m\u001b[0m \u001b[1m1s\u001b[0m 5ms/step - accuracy: 0.7398 - loss: 0.5227 - val_accuracy: 0.7170 - val_loss: 0.5396\n",
      "Epoch 19/20\n",
      "\u001b[1m124/124\u001b[0m \u001b[32m━━━━━━━━━━━━━━━━━━━━\u001b[0m\u001b[37m\u001b[0m \u001b[1m1s\u001b[0m 6ms/step - accuracy: 0.7312 - loss: 0.5155 - val_accuracy: 0.7566 - val_loss: 0.4735\n",
      "Epoch 20/20\n",
      "\u001b[1m124/124\u001b[0m \u001b[32m━━━━━━━━━━━━━━━━━━━━\u001b[0m\u001b[37m\u001b[0m \u001b[1m1s\u001b[0m 7ms/step - accuracy: 0.7427 - loss: 0.5101 - val_accuracy: 0.7495 - val_loss: 0.4908\n"
     ]
    }
   ],
   "source": [
    "# Build ANN model\n",
    "model = keras.Sequential([\n",
    "    keras.layers.Dense(32, input_shape=(x_train.shape[1],), activation=\"relu\"),\n",
    "    keras.layers.Dense(16, activation=\"relu\"),\n",
    "    keras.layers.Dense(1, activation=\"sigmoid\")\n",
    "])\n",
    "\n",
    "model.compile(\n",
    "    optimizer=\"adam\",\n",
    "    loss=\"binary_crossentropy\",\n",
    "    metrics=['accuracy']\n",
    ")\n",
    "\n",
    "# Train the model\n",
    "history = model.fit(\n",
    "    x_train, y_train,\n",
    "    epochs=20,\n",
    "    batch_size=32,\n",
    "    validation_split=0.2,\n",
    "    class_weight=class_weights\n",
    ")"
   ]
  },
  {
   "cell_type": "code",
   "execution_count": 6,
   "id": "38bef3fd-59ba-4c8b-95f4-2018d7737946",
   "metadata": {},
   "outputs": [
    {
     "name": "stdout",
     "output_type": "stream",
     "text": [
      "\u001b[1m67/67\u001b[0m \u001b[32m━━━━━━━━━━━━━━━━━━━━\u001b[0m\u001b[37m\u001b[0m \u001b[1m0s\u001b[0m 5ms/step - accuracy: 0.7669 - loss: 0.4761\n",
      "\n",
      "Test Accuracy: 0.7577\n",
      "\u001b[1m67/67\u001b[0m \u001b[32m━━━━━━━━━━━━━━━━━━━━\u001b[0m\u001b[37m\u001b[0m \u001b[1m0s\u001b[0m 5ms/step\n",
      "\n",
      "Confusion Matrix:\n",
      " [[1162  377]\n",
      " [ 135  439]]\n",
      "\n",
      "Classification Report:\n",
      "               precision    recall  f1-score   support\n",
      "\n",
      "    No Churn       0.90      0.76      0.82      1539\n",
      "       Churn       0.54      0.76      0.63       574\n",
      "\n",
      "    accuracy                           0.76      2113\n",
      "   macro avg       0.72      0.76      0.73      2113\n",
      "weighted avg       0.80      0.76      0.77      2113\n",
      "\n"
     ]
    }
   ],
   "source": [
    "loss, accuracy = model.evaluate(x_test, y_test)\n",
    "print(f\"\\nTest Accuracy: {accuracy:.4f}\")\n",
    "\n",
    "# Predict on test set\n",
    "y_pred_prob = model.predict(x_test)\n",
    "y_pred = (y_pred_prob > 0.5).astype(int)\n",
    "\n",
    "# Confusion matrix\n",
    "cm = confusion_matrix(y_test, y_pred)\n",
    "print(\"\\nConfusion Matrix:\\n\", cm)\n",
    "print(\"\\nClassification Report:\\n\", classification_report(y_test, y_pred, target_names=['No Churn', 'Churn']))\n"
   ]
  },
  {
   "cell_type": "code",
   "execution_count": 7,
   "id": "88701f76-0544-457f-89fb-345acbc18a9e",
   "metadata": {},
   "outputs": [
    {
     "data": {
      "image/png": "[encoded data removed]",
      "text/plain": [
       "<Figure size 600x500 with 2 Axes>"
      ]
     },
     "metadata": {},
     "output_type": "display_data"
    }
   ],
   "source": [
    "# Plot confusion matrix\n",
    "plt.figure(figsize=(6,5))\n",
    "sns.heatmap(cm, annot=True, fmt='d', cmap='rocket_r', xticklabels=['No Churn', 'Churn'], yticklabels=['No Churn', 'Churn'])\n",
    "plt.xlabel(\"Predicted\")\n",
    "plt.ylabel(\"Truth\")\n",
    "plt.title(\"Confusion Matrix\")\n",
    "plt.show()"
   ]
  },
  {
   "cell_type": "code",
   "execution_count": 8,
   "id": "419a5c0c-ca52-426e-b937-405d16182a56",
   "metadata": {},
   "outputs": [
    {
     "name": "stdout",
     "output_type": "stream",
     "text": [
      "\u001b[1m1/1\u001b[0m \u001b[32m━━━━━━━━━━━━━━━━━━━━\u001b[0m\u001b[37m\u001b[0m \u001b[1m0s\u001b[0m 121ms/step\n",
      "Sample 1: Probability of churn = 0.726, Predicted class = Churn\n",
      "Sample 2: Probability of churn = 0.091, Predicted class = No Churn\n",
      "Sample 3: Probability of churn = 0.050, Predicted class = No Churn\n",
      "Sample 4: Probability of churn = 0.840, Predicted class = Churn\n",
      "Sample 5: Probability of churn = 0.064, Predicted class = No Churn\n"
     ]
    }
   ],
   "source": [
    "new_data = x_test.iloc[:5]\n",
    "pred_prob = model.predict(new_data)\n",
    "pred_class = (pred_prob > 0.5).astype(int)\n",
    "\n",
    "for i, prob in enumerate(pred_prob):\n",
    "    print(f\"Sample {i+1}: Probability of churn = {prob[0]:.3f}, Predicted class = {'Churn' if pred_class[i,0]==1 else 'No Churn'}\")"
   ]
  },
  {
   "cell_type": "markdown",
   "id": "0e4b9fd3-7a88-4429-8771-f5c37df9a082",
   "metadata": {},
   "source": [
    "# to save the model"
   ]
  },
  {
   "cell_type": "code",
   "execution_count": 9,
   "id": "5c690845-11a4-4c5a-89c3-11d5044a4b85",
   "metadata": {},
   "outputs": [],
   "source": [
    "import joblib"
   ]
  },
  {
   "cell_type": "code",
   "execution_count": 10,
   "id": "aed19ba3-186b-4e55-b0ba-91a11795a32a",
   "metadata": {},
   "outputs": [
    {
     "name": "stderr",
     "output_type": "stream",
     "text": [
      "WARNING:absl:You are saving your model as an HDF5 file via `model.save()` or `keras.saving.save_model(model)`. This file format is considered legacy. We recommend using instead the native Keras format, e.g. `model.save('my_model.keras')` or `keras.saving.save_model(model, 'my_model.keras')`. \n"
     ]
    }
   ],
   "source": [
    "# to save thhe model as .h5\n",
    "\n",
    "model.save('Teleco-Customer-Churn.h5')"
   ]
  },
  {
   "cell_type": "code",
   "execution_count": 16,
   "id": "38935390-de04-4ee4-964f-344450fde246",
   "metadata": {},
   "outputs": [
    {
     "name": "stderr",
     "output_type": "stream",
     "text": [
      "WARNING:absl:Compiled the loaded model, but the compiled metrics have yet to be built. `model.compile_metrics` will be empty until you train or evaluate the model.\n"
     ]
    },
    {
     "data": {
      "text/plain": [
       "<Sequential name=sequential, built=True>"
      ]
     },
     "execution_count": 16,
     "metadata": {},
     "output_type": "execute_result"
    }
   ],
   "source": [
    "# to load the model\n",
    "\n",
    "loaded_model = tf.keras.models.load_model('Teleco-Customer-Churn.h5')\n",
    "loaded_model"
   ]
  },
  {
   "cell_type": "code",
   "execution_count": 18,
   "id": "f10642fb-7f09-4152-8dea-2819759f592a",
   "metadata": {},
   "outputs": [
    {
     "data": {
      "text/plain": [
       "['Scaling.pkl']"
      ]
     },
     "execution_count": 18,
     "metadata": {},
     "output_type": "execute_result"
    }
   ],
   "source": [
    "# To save the scaling model\n",
    "joblib.dump(scaler ,'Scaling.pkl')"
   ]
  },
  {
   "cell_type": "code",
   "execution_count": 19,
   "id": "47642555-9d6a-48de-93a9-02bf6c364569",
   "metadata": {},
   "outputs": [],
   "source": [
    "# to load the scaling model\n",
    "\n",
    "loaded_scaling = joblib.load('Scaling.pkl')"
   ]
  },
  {
   "cell_type": "code",
   "execution_count": 20,
   "id": "f3a5cc9e-892a-420c-8874-23ccb0fe86ea",
   "metadata": {},
   "outputs": [
    {
     "data": {
      "text/plain": [
       "<Sequential name=sequential, built=True>"
      ]
     },
     "execution_count": 20,
     "metadata": {},
     "output_type": "execute_result"
    }
   ],
   "source": [
    "loaded_model"
   ]
  },
  {
   "cell_type": "code",
   "execution_count": 21,
   "id": "b1b6c630-dc41-4eb9-9c91-8abd39ac1892",
   "metadata": {},
   "outputs": [
    {
     "data": {
      "text/html": [
       "<div>\n",
       "<style scoped>\n",
       "    .dataframe tbody tr th:only-of-type {\n",
       "        vertical-align: middle;\n",
       "    }\n",
       "\n",
       "    .dataframe tbody tr th {\n",
       "        vertical-align: top;\n",
       "    }\n",
       "\n",
       "    .dataframe thead th {\n",
       "        text-align: right;\n",
       "    }\n",
       "</style>\n",
       "<table border=\"1\" class=\"dataframe\">\n",
       "  <thead>\n",
       "    <tr style=\"text-align: right;\">\n",
       "      <th></th>\n",
       "      <th>gender</th>\n",
       "      <th>SeniorCitizen</th>\n",
       "      <th>Partner</th>\n",
       "      <th>Dependents</th>\n",
       "      <th>tenure</th>\n",
       "      <th>PhoneService</th>\n",
       "      <th>InternetService</th>\n",
       "      <th>MonthlyCharges</th>\n",
       "      <th>TotalCharges</th>\n",
       "    </tr>\n",
       "  </thead>\n",
       "  <tbody>\n",
       "    <tr>\n",
       "      <th>185</th>\n",
       "      <td>0</td>\n",
       "      <td>0.0</td>\n",
       "      <td>1</td>\n",
       "      <td>0</td>\n",
       "      <td>0.013889</td>\n",
       "      <td>0</td>\n",
       "      <td>0</td>\n",
       "      <td>0.065174</td>\n",
       "      <td>0.000692</td>\n",
       "    </tr>\n",
       "    <tr>\n",
       "      <th>2715</th>\n",
       "      <td>1</td>\n",
       "      <td>0.0</td>\n",
       "      <td>0</td>\n",
       "      <td>0</td>\n",
       "      <td>0.569444</td>\n",
       "      <td>1</td>\n",
       "      <td>2</td>\n",
       "      <td>0.069652</td>\n",
       "      <td>0.112814</td>\n",
       "    </tr>\n",
       "    <tr>\n",
       "      <th>3825</th>\n",
       "      <td>0</td>\n",
       "      <td>0.0</td>\n",
       "      <td>1</td>\n",
       "      <td>1</td>\n",
       "      <td>0.722222</td>\n",
       "      <td>1</td>\n",
       "      <td>2</td>\n",
       "      <td>0.010945</td>\n",
       "      <td>0.116882</td>\n",
       "    </tr>\n",
       "    <tr>\n",
       "      <th>1807</th>\n",
       "      <td>0</td>\n",
       "      <td>0.0</td>\n",
       "      <td>0</td>\n",
       "      <td>0</td>\n",
       "      <td>0.013889</td>\n",
       "      <td>1</td>\n",
       "      <td>1</td>\n",
       "      <td>0.578109</td>\n",
       "      <td>0.006641</td>\n",
       "    </tr>\n",
       "    <tr>\n",
       "      <th>132</th>\n",
       "      <td>1</td>\n",
       "      <td>0.0</td>\n",
       "      <td>0</td>\n",
       "      <td>0</td>\n",
       "      <td>0.930556</td>\n",
       "      <td>1</td>\n",
       "      <td>0</td>\n",
       "      <td>0.321393</td>\n",
       "      <td>0.374025</td>\n",
       "    </tr>\n",
       "    <tr>\n",
       "      <th>...</th>\n",
       "      <td>...</td>\n",
       "      <td>...</td>\n",
       "      <td>...</td>\n",
       "      <td>...</td>\n",
       "      <td>...</td>\n",
       "      <td>...</td>\n",
       "      <td>...</td>\n",
       "      <td>...</td>\n",
       "      <td>...</td>\n",
       "    </tr>\n",
       "    <tr>\n",
       "      <th>5522</th>\n",
       "      <td>0</td>\n",
       "      <td>0.0</td>\n",
       "      <td>0</td>\n",
       "      <td>0</td>\n",
       "      <td>0.013889</td>\n",
       "      <td>1</td>\n",
       "      <td>1</td>\n",
       "      <td>0.516418</td>\n",
       "      <td>0.005925</td>\n",
       "    </tr>\n",
       "    <tr>\n",
       "      <th>6377</th>\n",
       "      <td>1</td>\n",
       "      <td>0.0</td>\n",
       "      <td>0</td>\n",
       "      <td>0</td>\n",
       "      <td>0.013889</td>\n",
       "      <td>0</td>\n",
       "      <td>0</td>\n",
       "      <td>0.262687</td>\n",
       "      <td>0.002983</td>\n",
       "    </tr>\n",
       "    <tr>\n",
       "      <th>5500</th>\n",
       "      <td>1</td>\n",
       "      <td>0.0</td>\n",
       "      <td>1</td>\n",
       "      <td>1</td>\n",
       "      <td>0.833333</td>\n",
       "      <td>1</td>\n",
       "      <td>0</td>\n",
       "      <td>0.420398</td>\n",
       "      <td>0.424146</td>\n",
       "    </tr>\n",
       "    <tr>\n",
       "      <th>2392</th>\n",
       "      <td>1</td>\n",
       "      <td>0.0</td>\n",
       "      <td>0</td>\n",
       "      <td>0</td>\n",
       "      <td>0.277778</td>\n",
       "      <td>1</td>\n",
       "      <td>1</td>\n",
       "      <td>0.720896</td>\n",
       "      <td>0.203387</td>\n",
       "    </tr>\n",
       "    <tr>\n",
       "      <th>6705</th>\n",
       "      <td>1</td>\n",
       "      <td>0.0</td>\n",
       "      <td>1</td>\n",
       "      <td>1</td>\n",
       "      <td>0.305556</td>\n",
       "      <td>1</td>\n",
       "      <td>0</td>\n",
       "      <td>0.326866</td>\n",
       "      <td>0.140099</td>\n",
       "    </tr>\n",
       "  </tbody>\n",
       "</table>\n",
       "<p>2113 rows × 9 columns</p>\n",
       "</div>"
      ],
      "text/plain": [
       "      gender  SeniorCitizen  Partner  Dependents    tenure  PhoneService  \\\n",
       "185        0            0.0        1           0  0.013889             0   \n",
       "2715       1            0.0        0           0  0.569444             1   \n",
       "3825       0            0.0        1           1  0.722222             1   \n",
       "1807       0            0.0        0           0  0.013889             1   \n",
       "132        1            0.0        0           0  0.930556             1   \n",
       "...      ...            ...      ...         ...       ...           ...   \n",
       "5522       0            0.0        0           0  0.013889             1   \n",
       "6377       1            0.0        0           0  0.013889             0   \n",
       "5500       1            0.0        1           1  0.833333             1   \n",
       "2392       1            0.0        0           0  0.277778             1   \n",
       "6705       1            0.0        1           1  0.305556             1   \n",
       "\n",
       "      InternetService  MonthlyCharges  TotalCharges  \n",
       "185                 0        0.065174      0.000692  \n",
       "2715                2        0.069652      0.112814  \n",
       "3825                2        0.010945      0.116882  \n",
       "1807                1        0.578109      0.006641  \n",
       "132                 0        0.321393      0.374025  \n",
       "...               ...             ...           ...  \n",
       "5522                1        0.516418      0.005925  \n",
       "6377                0        0.262687      0.002983  \n",
       "5500                0        0.420398      0.424146  \n",
       "2392                1        0.720896      0.203387  \n",
       "6705                0        0.326866      0.140099  \n",
       "\n",
       "[2113 rows x 9 columns]"
      ]
     },
     "execution_count": 21,
     "metadata": {},
     "output_type": "execute_result"
    }
   ],
   "source": [
    "x_test"
   ]
  },
  {
   "cell_type": "code",
   "execution_count": 22,
   "id": "eee8a9a7-9c7d-484c-ba49-f20069196970",
   "metadata": {},
   "outputs": [
    {
     "name": "stdout",
     "output_type": "stream",
     "text": [
      "\u001b[1m1/1\u001b[0m \u001b[32m━━━━━━━━━━━━━━━━━━━━\u001b[0m\u001b[37m\u001b[0m \u001b[1m0s\u001b[0m 207ms/step\n"
     ]
    },
    {
     "data": {
      "text/plain": [
       "array([[0.03270805]], dtype=float32)"
      ]
     },
     "execution_count": 22,
     "metadata": {},
     "output_type": "execute_result"
    }
   ],
   "source": [
    "# to predict the loaded_model  with random x_test data\n",
    "\n",
    "loaded_model.predict(x_test.iloc[[185]])"
   ]
  },
  {
   "cell_type": "code",
   "execution_count": 23,
   "id": "3d1a3aca-6aa1-4618-9d43-9aed064067c3",
   "metadata": {},
   "outputs": [
    {
     "name": "stdout",
     "output_type": "stream",
     "text": [
      "['gender', 'SeniorCitizen', 'Partner', 'Dependents', 'tenure', 'PhoneService', 'InternetService', 'MonthlyCharges', 'TotalCharges']\n"
     ]
    }
   ],
   "source": [
    "# to print the columns list \n",
    "\n",
    "print(x_test.columns.tolist())"
   ]
  },
  {
   "cell_type": "code",
   "execution_count": null,
   "id": "5680c48b-a871-4910-8f54-1cebf030bf38",
   "metadata": {},
   "outputs": [],
   "source": []
  }
 ],
 "metadata": {
  "kernelspec": {
   "display_name": "Python 3 (ipykernel)",
   "language": "python",
   "name": "python3"
  },
  "language_info": {
   "codemirror_mode": {
    "name": "ipython",
    "version": 3
   },
   "file_extension": ".py",
   "mimetype": "text/x-python",
   "name": "python",
   "nbconvert_exporter": "python",
   "pygments_lexer": "ipython3",
   "version": "3.12.6"
  }
 },
 "nbformat": 4,
 "nbformat_minor": 5
}
